{
 "cells": [
  {
   "cell_type": "code",
   "execution_count": 3,
   "id": "aa4a7857",
   "metadata": {},
   "outputs": [
    {
     "name": "stdout",
     "output_type": "stream",
     "text": [
      "Requirement already satisfied: sentencepiece in c:\\users\\cindy\\anaconda3\\lib\\site-packages (0.1.96)\n",
      "Note: you may need to restart the kernel to use updated packages.\n"
     ]
    }
   ],
   "source": [
    "pip install sentencepiece"
   ]
  },
  {
   "cell_type": "code",
   "execution_count": 4,
   "id": "7cadee43",
   "metadata": {},
   "outputs": [
    {
     "name": "stdout",
     "output_type": "stream",
     "text": [
      "C:\\Users\\cindy\\Desktop\\jit\n"
     ]
    }
   ],
   "source": [
    "cd ../jit"
   ]
  },
  {
   "cell_type": "code",
   "execution_count": 5,
   "id": "8e4859b7",
   "metadata": {},
   "outputs": [],
   "source": [
    "import codecs\n",
    "import pandas as pd"
   ]
  },
  {
   "cell_type": "code",
   "execution_count": 31,
   "id": "9ccc96b2",
   "metadata": {},
   "outputs": [
    {
     "name": "stdout",
     "output_type": "stream",
     "text": [
      "Wall time: 2.26 s\n"
     ]
    }
   ],
   "source": [
    "%%time\n",
    "import sentencepiece as spm\n",
    "\n",
    "input_file = 'ko.train'\n",
    "vocab_size = 4000\n",
    "model_name = 'subword_tokenizer_kor'\n",
    "model_type = 'bpe'\n",
    "user_defined_symbols = '[PAD],[UNK],[CLS],[SEP],[MASK],[UNK1],[UNK2],[UNK3],[UNK4],[UNK5]'\n",
    "max_sentence_length = 350\n",
    "\n",
    "input_argument = '--input=%s --model_prefix=%s --vocab_size=%s --user_defined_symbols=%s --model_type=%s --max_sentence_length=%s'\n",
    "\n",
    "cmd = input_argument%(input_file, model_name, vocab_size,user_defined_symbols, model_type, max_sentence_length)\n",
    "\n",
    "spm.SentencePieceTrainer.Train(cmd)"
   ]
  },
  {
   "cell_type": "code",
   "execution_count": 32,
   "id": "a3ff1dcd",
   "metadata": {},
   "outputs": [
    {
     "data": {
      "text/plain": [
       "True"
      ]
     },
     "execution_count": 32,
     "metadata": {},
     "output_type": "execute_result"
    }
   ],
   "source": [
    "sp = spm.SentencePieceProcessor()\n",
    "sp.Load(\"subword_tokenizer_kor.model\")"
   ]
  },
  {
   "cell_type": "code",
   "execution_count": 33,
   "id": "f7a5bf85",
   "metadata": {},
   "outputs": [
    {
     "name": "stdout",
     "output_type": "stream",
     "text": [
      "['판관했던 거 ?', '우리 그냥 맨손에 맨손에 김도 매고 , 김도 베고 . 그렇게 했었어 , 옛날은 .', '예 .', '응 , 그러니까 .', '운영해 오다가 .', '에 , 밭벼 , 아 요는 뭐이든지 복잡하게 나면 위 다퉈서 되지를 않아 .', '아 , 오리목 말하는 거 . 오리목이지 .', '보통 지붕 위로 올리는데 어떤 데는 올레 길에 하는 데도 있는 모양이야 .', '여름에는 목장에 올리고 .', '예 .']\n"
     ]
    }
   ],
   "source": [
    "ko = []\n",
    "f = codecs.open(f\"ko.train\", 'r', 'utf8')\n",
    "ko = f.read().splitlines()\n",
    "print(ko[:10])"
   ]
  },
  {
   "cell_type": "code",
   "execution_count": 24,
   "id": "43483511",
   "metadata": {
    "scrolled": true
   },
   "outputs": [
    {
     "name": "stdout",
     "output_type": "stream",
     "text": [
      "판관했던 거 ?\n",
      "['▁판관', '했던', '▁거', '▁?']\n",
      "\n",
      "우리 그냥 맨손에 맨손에 김도 매고 , 김도 베고 . 그렇게 했었어 , 옛날은 .\n",
      "['▁우리', '▁그냥', '▁맨', '손', '에', '▁맨', '손', '에', '▁김도', '▁매고', '▁,', '▁김도', '▁베고', '▁.', '▁그렇게', '▁했었어', '▁,', '▁옛날은', '▁.']\n",
      "\n",
      "예 .\n",
      "['▁예', '▁.']\n",
      "\n",
      "응 , 그러니까 .\n",
      "['▁응', '▁,', '▁그러니까', '▁.']\n",
      "\n",
      "운영해 오다가 .\n",
      "['▁운영', '해', '▁오다가', '▁.']\n",
      "\n"
     ]
    }
   ],
   "source": [
    "for k in ko[:5]: #토큰화 결과의 일부입니다. 5문장만 출력해 확인.\n",
    "    print(k)\n",
    "    print(sp.EncodeAsPieces(k))\n",
    "    print(\"\")"
   ]
  },
  {
   "cell_type": "code",
   "execution_count": 34,
   "id": "935cf1f9",
   "metadata": {
    "scrolled": true
   },
   "outputs": [
    {
     "name": "stdout",
     "output_type": "stream",
     "text": [
      "판관했던 거 ?\n",
      "['▁판', '관', '했던', '▁거', '▁?']\n",
      "[1118, 3023, 2744, 18, 16]\n",
      "\n",
      "우리 그냥 맨손에 맨손에 김도 매고 , 김도 베고 . 그렇게 했었어 , 옛날은 .\n",
      "['▁우리', '▁그냥', '▁맨', '손', '에', '▁맨', '손', '에', '▁김', '도', '▁매고', '▁,', '▁김', '도', '▁베', '고', '▁.', '▁그렇게', '▁했었어', '▁,', '▁옛날은', '▁.']\n",
      "[81, 117, 1044, 2964, 2778, 1044, 2964, 2778, 195, 2781, 1488, 15, 195, 2781, 222, 2767, 13, 51, 611, 15, 232, 13]\n",
      "\n"
     ]
    }
   ],
   "source": [
    "for k in ko[:2]: #표준어 훈련데이터를 정수 인코딩한 결과의 일부입니다. 2문장만 출력.\n",
    "    print(k)\n",
    "    print(sp.EncodeAsPieces(k))\n",
    "    print(sp.EncodeAsIds(k))\n",
    "    print(\"\")\n",
    "    #표준어 훈련데이터를 정수 인코딩한 결과의 일부입니다. 2문장만 출력."
   ]
  },
  {
   "cell_type": "code",
   "execution_count": 35,
   "id": "d309fc4f",
   "metadata": {
    "scrolled": true
   },
   "outputs": [
    {
     "name": "stdout",
     "output_type": "stream",
     "text": [
      "Wall time: 3.17 s\n"
     ]
    }
   ],
   "source": [
    "%%time\n",
    "\n",
    "input_file = 'je.train'\n",
    "vocab_size = 4000\n",
    "model_name = 'subword_tokenizer_jeju'\n",
    "model_type = 'bpe'\n",
    "user_defined_symbols = '[PAD],[UNK],[CLS],[SEP],[MASK],[UNK1],[UNK2],[UNK3],[UNK4],[UNK5]'\n",
    "max_sentence_length = 350\n",
    "\n",
    "input_argument = '--input=%s --model_prefix=%s --vocab_size=%s --user_defined_symbols=%s --model_type=%s --max_sentence_length=%s'\n",
    "\n",
    "cmd = input_argument%(input_file, model_name, vocab_size,user_defined_symbols, model_type, max_sentence_length)\n",
    "\n",
    "spm.SentencePieceTrainer.Train(cmd)"
   ]
  },
  {
   "cell_type": "code",
   "execution_count": 36,
   "id": "472a2c73",
   "metadata": {},
   "outputs": [
    {
     "data": {
      "text/plain": [
       "True"
      ]
     },
     "execution_count": 36,
     "metadata": {},
     "output_type": "execute_result"
    }
   ],
   "source": [
    "sp2 = spm.SentencePieceProcessor()\n",
    "sp2.Load(\"subword_tokenizer_jeju.model\")"
   ]
  },
  {
   "cell_type": "code",
   "execution_count": 37,
   "id": "a47c6c07",
   "metadata": {},
   "outputs": [
    {
     "name": "stdout",
     "output_type": "stream",
     "text": [
      "['판관헤난 거 ?', '우리 그냥 맨손에 맨손에 검질도 메고 , 검질도 비고 . 경헤난 , 옛날은 .', '에 .', '응 , 거니까 .', '운영헤 오다가 .', '에 , 산듸 , 아 요는 뭐이던지 복잡허게 나면은 우 ᄃᆞ탕은에 뒈들 아녀 .', '아 , 오리목 말허는 거 . 오릿목입주게 .', '보통 지붕 우로 올리는데 어떤 디는 올레 질에 허는 디도 잇는 모양이라 .', '여름에는 목장에 올리고 .', '예 .']\n"
     ]
    }
   ],
   "source": [
    "je = []\n",
    "f = codecs.open(f\"je.train\", 'r', 'utf8')\n",
    "je = f.read().splitlines()\n",
    "print(je[:10])"
   ]
  },
  {
   "cell_type": "code",
   "execution_count": 12,
   "id": "d84b0d87",
   "metadata": {},
   "outputs": [
    {
     "name": "stdout",
     "output_type": "stream",
     "text": [
      "판관헤난 거 ?\n",
      "['▁판관', '헤난', '▁거', '▁?']\n",
      "\n",
      "우리 그냥 맨손에 맨손에 검질도 메고 , 검질도 비고 . 경헤난 , 옛날은 .\n",
      "['▁우리', '▁그냥', '▁맨손', '에', '▁맨손', '에', '▁검질도', '▁메고', '▁,', '▁검질도', '▁비고', '▁.', '▁경헤난', '▁,', '▁옛날은', '▁.']\n",
      "\n",
      "에 .\n",
      "['▁에', '▁.']\n",
      "\n",
      "응 , 거니까 .\n",
      "['▁응', '▁,', '▁거니까', '▁.']\n",
      "\n",
      "운영헤 오다가 .\n",
      "['▁운영', '헤', '▁오다가', '▁.']\n",
      "\n"
     ]
    }
   ],
   "source": [
    "for j in je[:5]: #인코딩 결과의 일부입니다. 5문장만 출력해 확인.\n",
    "    print(j)\n",
    "    print(sp2.EncodeAsPieces(j))\n",
    "    print(\"\")"
   ]
  },
  {
   "cell_type": "code",
   "execution_count": 38,
   "id": "6cbfa9a9",
   "metadata": {},
   "outputs": [
    {
     "name": "stdout",
     "output_type": "stream",
     "text": [
      "판관헤난 거 ?\n",
      "['▁판', '관', '헤', '난', '▁거', '▁?']\n",
      "[1009, 2909, 2647, 2658, 17, 16]\n",
      "\n",
      "우리 그냥 맨손에 맨손에 검질도 메고 , 검질도 비고 . 경헤난 , 옛날은 .\n",
      "['▁우리', '▁그냥', '▁맨', '손', '에', '▁맨', '손', '에', '▁검질', '도', '▁메', '고', '▁,', '▁검질', '도', '▁비', '고', '▁.', '▁경헤', '난', '▁,', '▁옛날은', '▁.']\n",
      "[75, 114, 1232, 2852, 2632, 1232, 2852, 2632, 283, 2639, 120, 2633, 15, 283, 2639, 124, 2633, 13, 383, 2658, 15, 262, 13]\n",
      "\n"
     ]
    }
   ],
   "source": [
    "for j in je[:2]: #제주어 훈련데이터를 정수 인코딩한 결과의 일부입니다. 2문장만 출력.\n",
    "    print(j)\n",
    "    print(sp2.EncodeAsPieces(j))\n",
    "    print(sp2.EncodeAsIds(j))\n",
    "    print(\"\")\n",
    "    #제주어 훈련데이터를 정수 인코딩한 결과의 일부입니다. 2문장만 출력."
   ]
  },
  {
   "cell_type": "code",
   "execution_count": null,
   "id": "176f4356",
   "metadata": {},
   "outputs": [],
   "source": []
  }
 ],
 "metadata": {
  "kernelspec": {
   "display_name": "Python 3 (ipykernel)",
   "language": "python",
   "name": "python3"
  },
  "language_info": {
   "codemirror_mode": {
    "name": "ipython",
    "version": 3
   },
   "file_extension": ".py",
   "mimetype": "text/x-python",
   "name": "python",
   "nbconvert_exporter": "python",
   "pygments_lexer": "ipython3",
   "version": "3.8.12"
  }
 },
 "nbformat": 4,
 "nbformat_minor": 5
}
