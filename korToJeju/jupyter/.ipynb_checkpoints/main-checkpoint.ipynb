{
 "cells": [
  {
   "cell_type": "code",
   "execution_count": 1,
   "id": "e4e4c4b6",
   "metadata": {},
   "outputs": [
    {
     "name": "stdout",
     "output_type": "stream",
     "text": [
      "Requirement already satisfied: sentencepiece in c:\\users\\cindy\\anaconda3\\lib\\site-packages (0.1.96)\n",
      "Note: you may need to restart the kernel to use updated packages.\n"
     ]
    }
   ],
   "source": [
    "pip install sentencepiece"
   ]
  },
  {
   "cell_type": "code",
   "execution_count": 2,
   "id": "7f1ef4d7",
   "metadata": {},
   "outputs": [
    {
     "name": "stdout",
     "output_type": "stream",
     "text": [
      "C:\\Users\\cindy\\Desktop\\jit\n"
     ]
    }
   ],
   "source": [
    "cd jit"
   ]
  },
  {
   "cell_type": "code",
   "execution_count": 3,
   "id": "fe0b58fe",
   "metadata": {},
   "outputs": [
    {
     "name": "stdout",
     "output_type": "stream",
     "text": [
      "Wall time: 12.3 s\n"
     ]
    }
   ],
   "source": [
    "%%time\n",
    "import sentencepiece as spm\n",
    "\n",
    "\n",
    "input_file = 'ko.train'\n",
    "vocab_size = 32000\n",
    "model_name = 'subword_tokenizer_kor'\n",
    "model_type = 'bpe'\n",
    "user_defined_symbols = '[PAD],[UNK],[CLS],[SEP],[MASK],[UNK1],[UNK2],[UNK3],[UNK4],[UNK5]'\n",
    "max_sentence_length = 350\n",
    "\n",
    "input_argument = '--input=%s --model_prefix=%s --vocab_size=%s --user_defined_symbols=%s --model_type=%s --max_sentence_length=%s'\n",
    "\n",
    "cmd = input_argument%(input_file, model_name, vocab_size,user_defined_symbols, model_type, max_sentence_length)\n",
    "\n",
    "spm.SentencePieceTrainer.Train(cmd)\n",
    "\n"
   ]
  },
  {
   "cell_type": "code",
   "execution_count": 5,
   "id": "4029fec3",
   "metadata": {},
   "outputs": [
    {
     "data": {
      "text/plain": [
       "True"
      ]
     },
     "execution_count": 5,
     "metadata": {},
     "output_type": "execute_result"
    }
   ],
   "source": [
    "sp = spm.SentencePieceProcessor()\n",
    "sp.Load(\"subword_tokenizer_kor.model\")"
   ]
  },
  {
   "cell_type": "code",
   "execution_count": 5,
   "id": "916c6cae",
   "metadata": {},
   "outputs": [
    {
     "data": {
      "text/plain": [
       "['▁테', '스트', '▁문', '장', '입니다']"
      ]
     },
     "execution_count": 5,
     "metadata": {},
     "output_type": "execute_result"
    }
   ],
   "source": [
    "sp.EncodeAsPieces(\"테스트 문장입니다\")"
   ]
  },
  {
   "cell_type": "code",
   "execution_count": 6,
   "id": "b3d92a19",
   "metadata": {},
   "outputs": [
    {
     "data": {
      "text/plain": [
       "[1076, 29843, 262, 30831, 939]"
      ]
     },
     "execution_count": 6,
     "metadata": {},
     "output_type": "execute_result"
    }
   ],
   "source": [
    "sp.EncodeAsIds(\"테스트 문장입니다\")"
   ]
  },
  {
   "cell_type": "code",
   "execution_count": 7,
   "id": "ad2d5e4e",
   "metadata": {},
   "outputs": [
    {
     "data": {
      "text/plain": [
       "'테스트 문장입니다'"
      ]
     },
     "execution_count": 7,
     "metadata": {},
     "output_type": "execute_result"
    }
   ],
   "source": [
    "sp.DecodeIds([1076, 29843, 262, 30831, 939])"
   ]
  },
  {
   "cell_type": "code",
   "execution_count": 8,
   "id": "cfd3f806",
   "metadata": {},
   "outputs": [
    {
     "data": {
      "text/plain": [
       "'테스트 문장입니다'"
      ]
     },
     "execution_count": 8,
     "metadata": {},
     "output_type": "execute_result"
    }
   ],
   "source": [
    "sp.DecodePieces(['▁테', '스트', '▁문', '장', '입니다'])"
   ]
  },
  {
   "cell_type": "code",
   "execution_count": 8,
   "id": "c70111e4",
   "metadata": {
    "scrolled": true
   },
   "outputs": [
    {
     "name": "stdout",
     "output_type": "stream",
     "text": [
      "Wall time: 15.1 s\n"
     ]
    }
   ],
   "source": [
    "%%time\n",
    "\n",
    "input_file = 'je.train'\n",
    "vocab_size = 32000\n",
    "model_name = 'subword_tokenizer_jeju'\n",
    "model_type = 'bpe'\n",
    "user_defined_symbols = '[PAD],[UNK],[CLS],[SEP],[MASK],[UNK1],[UNK2],[UNK3],[UNK4],[UNK5]'\n",
    "max_sentence_length = 350\n",
    "\n",
    "\n",
    "input_argument = '--input=%s --model_prefix=%s --vocab_size=%s --user_defined_symbols=%s --model_type=%s --max_sentence_length=%s'\n",
    "\n",
    "cmd = input_argument%(input_file, model_name, vocab_size,user_defined_symbols, model_type, max_sentence_length)\n",
    "\n",
    "spm.SentencePieceTrainer.Train(cmd)"
   ]
  },
  {
   "cell_type": "code",
   "execution_count": 10,
   "id": "7b2a3fca",
   "metadata": {},
   "outputs": [
    {
     "data": {
      "text/plain": [
       "True"
      ]
     },
     "execution_count": 10,
     "metadata": {},
     "output_type": "execute_result"
    }
   ],
   "source": [
    "sp2 = spm.SentencePieceProcessor()\n",
    "sp2.Load(\"subword_tokenizer_jeju.model\")"
   ]
  },
  {
   "cell_type": "code",
   "execution_count": 13,
   "id": "686c04a8",
   "metadata": {},
   "outputs": [
    {
     "data": {
      "text/plain": [
       "['▁예', '시로', '▁인', '코', '딩', '을', '▁해', '보는', '▁중', '입니다', '.']"
      ]
     },
     "execution_count": 13,
     "metadata": {},
     "output_type": "execute_result"
    }
   ],
   "source": [
    "sp2.EncodeAsPieces(\"예시로 인코딩을 해보는 중입니다.\")\n"
   ]
  },
  {
   "cell_type": "code",
   "execution_count": 14,
   "id": "4df3ff51",
   "metadata": {},
   "outputs": [
    {
     "data": {
      "text/plain": [
       "['▁예', '시로', '▁인', '코', '딩', '을', '▁해보', '는', '▁중', '입니다', '.']"
      ]
     },
     "execution_count": 14,
     "metadata": {},
     "output_type": "execute_result"
    }
   ],
   "source": [
    "sp.EncodeAsPieces(\"예시로 인코딩을 해보는 중입니다.\")"
   ]
  },
  {
   "cell_type": "code",
   "execution_count": 15,
   "id": "8155d072",
   "metadata": {},
   "outputs": [
    {
     "data": {
      "text/plain": [
       "['▁어떵', '▁옛날', '▁삶', '사', '▁삶', '▁이', '랏어']"
      ]
     },
     "execution_count": 15,
     "metadata": {},
     "output_type": "execute_result"
    }
   ],
   "source": [
    "sp2.EncodeAsPieces(\"어떵 옛날 삶사 삶 이랏어\")"
   ]
  },
  {
   "cell_type": "code",
   "execution_count": 16,
   "id": "92aaf769",
   "metadata": {},
   "outputs": [
    {
     "data": {
      "text/plain": [
       "['▁어', '떵', '▁옛날', '▁삶', '사', '▁삶', '▁이', '랏', '어']"
      ]
     },
     "execution_count": 16,
     "metadata": {},
     "output_type": "execute_result"
    }
   ],
   "source": [
    "sp.EncodeAsPieces(\"어떵 옛날 삶사 삶 이랏어\")"
   ]
  },
  {
   "cell_type": "code",
   "execution_count": null,
   "id": "85dfad88",
   "metadata": {},
   "outputs": [],
   "source": []
  }
 ],
 "metadata": {
  "kernelspec": {
   "display_name": "Python 3 (ipykernel)",
   "language": "python",
   "name": "python3"
  },
  "language_info": {
   "codemirror_mode": {
    "name": "ipython",
    "version": 3
   },
   "file_extension": ".py",
   "mimetype": "text/x-python",
   "name": "python",
   "nbconvert_exporter": "python",
   "pygments_lexer": "ipython3",
   "version": "3.8.12"
  }
 },
 "nbformat": 4,
 "nbformat_minor": 5
}
